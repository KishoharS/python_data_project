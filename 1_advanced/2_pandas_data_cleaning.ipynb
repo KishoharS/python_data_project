{
 "cells": [
  {
   "cell_type": "code",
   "execution_count": 1,
   "id": "a3cb1169",
   "metadata": {},
   "outputs": [
    {
     "name": "stderr",
     "output_type": "stream",
     "text": [
      "Using the latest cached version of the dataset since lukebarousse/data_jobs couldn't be found on the Hugging Face Hub\n",
      "Found the latest cached dataset configuration 'default' at /Users/kishohars/.cache/huggingface/datasets/lukebarousse___data_jobs/default/0.0.0/ed776e5a0a8c40ea9d5efbd800772ae52e140f3e (last modified on Mon Jul 14 12:30:44 2025).\n"
     ]
    }
   ],
   "source": [
    "#importing libraries\n",
    "import pandas as pd\n",
    "import matplotlib.pyplot as plt\n",
    "from datasets import load_dataset\n",
    "\n",
    "# loading data\n",
    "dataset = load_dataset(\"lukebarousse/data_jobs\")\n",
    "df = dataset['train'].to_pandas()\n",
    "\n",
    "# data cleaning\n",
    "df['job_posted_date'] = pd.to_datetime(df['job_posted_date'])"
   ]
  },
  {
   "cell_type": "code",
   "execution_count": 2,
   "id": "750b1298",
   "metadata": {},
   "outputs": [
    {
     "data": {
      "text/plain": [
       "115000.0"
      ]
     },
     "execution_count": 2,
     "metadata": {},
     "output_type": "execute_result"
    }
   ],
   "source": [
    "median_salary_yearly_avg = df['salary_year_avg'].median()\n",
    "\n",
    "median_salary_yearly_avg"
   ]
  },
  {
   "cell_type": "code",
   "execution_count": 3,
   "id": "01a768f9",
   "metadata": {},
   "outputs": [
    {
     "data": {
      "text/plain": [
       "45.97999954223633"
      ]
     },
     "execution_count": 3,
     "metadata": {},
     "output_type": "execute_result"
    }
   ],
   "source": [
    "median_salary_hourly_avg = df['salary_hour_avg'].median()\n",
    "\n",
    "median_salary_hourly_avg "
   ]
  },
  {
   "cell_type": "code",
   "execution_count": 4,
   "id": "6f475db4",
   "metadata": {},
   "outputs": [],
   "source": [
    "df_filled = df\n",
    "df_filled['salary_year_avg']=df_filled['salary_year_avg'].fillna(median_salary_yearly_avg)\n",
    "df_filled['salary_hour_avg']=df_filled['salary_hour_avg'].fillna(median_salary_hourly_avg)"
   ]
  },
  {
   "cell_type": "code",
   "execution_count": 5,
   "id": "73f2c36c",
   "metadata": {},
   "outputs": [
    {
     "data": {
      "text/plain": [
       "0         45.98\n",
       "1         45.98\n",
       "2         45.98\n",
       "3         45.98\n",
       "4         45.98\n",
       "          ...  \n",
       "785736    45.98\n",
       "785737    45.98\n",
       "785738    45.98\n",
       "785739    45.98\n",
       "785740    45.98\n",
       "Name: salary_hour_avg, Length: 785741, dtype: float64"
      ]
     },
     "execution_count": 5,
     "metadata": {},
     "output_type": "execute_result"
    }
   ],
   "source": [
    "df_filled['salary_hour_avg']"
   ]
  },
  {
   "cell_type": "code",
   "execution_count": 6,
   "id": "c410d16d",
   "metadata": {},
   "outputs": [
    {
     "name": "stdout",
     "output_type": "stream",
     "text": [
      "length of original dataset: 785741\n",
      "length of dataset after removing duplicates: 785741\n",
      "number of duplicates: 0\n"
     ]
    }
   ],
   "source": [
    "df_unique = df_filled\n",
    "\n",
    "df_unique.drop_duplicates()\n",
    "\n",
    "print(\"length of original dataset:\", len(df_filled))\n",
    "print(\"length of dataset after removing duplicates:\", len(df_unique))\n",
    "print(\"number of duplicates:\", len(df_filled) - len(df_unique))"
   ]
  },
  {
   "cell_type": "code",
   "execution_count": 7,
   "id": "4d926a27",
   "metadata": {},
   "outputs": [
    {
     "name": "stdout",
     "output_type": "stream",
     "text": [
      "length of original dataset: 785741\n",
      "length of dataset after removing duplicates: 508042\n",
      "number of duplicates: 277699\n"
     ]
    }
   ],
   "source": [
    "df_unique = df_unique.drop_duplicates(subset=['job_title','company_name'])\n",
    "\n",
    "print(\"length of original dataset:\", len(df_filled))\n",
    "print(\"length of dataset after removing duplicates:\", len(df_unique))\n",
    "print(\"number of duplicates:\", len(df_filled) - len(df_unique))"
   ]
  }
 ],
 "metadata": {
  "kernelspec": {
   "display_name": "python_course",
   "language": "python",
   "name": "python3"
  },
  "language_info": {
   "codemirror_mode": {
    "name": "ipython",
    "version": 3
   },
   "file_extension": ".py",
   "mimetype": "text/x-python",
   "name": "python",
   "nbconvert_exporter": "python",
   "pygments_lexer": "ipython3",
   "version": "3.13.5"
  }
 },
 "nbformat": 4,
 "nbformat_minor": 5
}
